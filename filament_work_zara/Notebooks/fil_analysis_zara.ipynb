{
 "cells": [
  {
   "cell_type": "code",
   "execution_count": 40,
   "metadata": {},
   "outputs": [
    {
     "name": "stdout",
     "output_type": "stream",
     "text": [
      "header1, ANDSKEL\n",
      "\n",
      "ndims, 3\n",
      "\n",
      "Comments, #No comments (RB)\n",
      "\n",
      "Bounding box, BBOX [-9.46958,-11.2398,-10.2952] [19.1849,19.2268,23.9453]\n",
      "\n",
      "ncrit, 142\n",
      "nfils, 90\n",
      "Reading data fields:\n",
      "CP field: persistence_ratio\n",
      "\n",
      "CP field: persistence_nsigmas\n",
      "\n",
      "CP field: persistence\n",
      "\n",
      "CP field: persistence_pair\n",
      "\n",
      "CP field: parent_index\n",
      "\n",
      "CP field: parent_log_index\n",
      "\n",
      "CP field: log_field_value\n",
      "\n",
      "CP field: field_value\n",
      "\n",
      "CP field: cell\n",
      "\n",
      "Filament field: field_value\n",
      "\n",
      "Filament field: orientation\n",
      "\n",
      "Filament field: cell\n",
      "\n",
      "Filament field: log_field_value\n",
      "\n",
      "Filament field: type\n",
      "\n",
      "Reading filaments took 0.00 secs.\n",
      "All necessary libraries imported\n",
      "dict_keys(['ncrit', 'critical_points', 'nfils', 'filaments', 'nb_CP_fields', 'CP_fields', 'nb_fil_fields', 'fil_fields'])\n",
      "these are the CP_fields in the Filament Dictionary\n",
      "['persistence_ratio\\n', 'persistence_nsigmas\\n', 'persistence\\n', 'persistence_pair\\n', 'parent_index\\n', 'parent_log_index\\n', 'log_field_value\\n', 'field_value\\n', 'cell\\n']\n",
      "There are 142 items in this call\n",
      "[10623.39, 3640.677, 11149.95, 2510.638, 2058.822, 6694.024, 4112.904, 5124.321, 22677.31, 5058.324, 2398.3, 1779.923, 17088.05, 1.797693e+308, 11162.4, 4112.904, 0.4827816, -1.0, -1.0, 6694.024, -1.0, -1.0, -1.0, 3640.677, 48.26574, 2058.822, -1.0, -1.0, 11162.4, -1.0, -1.0, -1.0, -1.0, 1779.923, 2398.3, -1.0, 5124.321, -1.0, 2510.638, -1.0, 5058.324, -1.0, -1.0, 17088.05, -1.0, -1.0, -1.0, 22677.31, -1.0, 10623.39, 11149.95, -1.0, -1.0, 48.26574, 0.4827816, 17.53648, 19.34099, 38.33106, -1.0, 22.57093, 11.12332, -1.0, 40.63592, 12.82787, 40.67591, -1.0, -1.0, -1.0, 168.1952, 1.095306, 1.934681, 1069.339, 3.669907, 6809.851, 2.156307, 1.533107, 23.68142, 12.05361, 10.18837, 9.529203, 28.71791, 12.45473, 11.45741, 1284.477, -1.0, 21.15929, 4666.728, 65.33819, 0.6958701, 8.311051, 170.9368, 17.53648, 2.156307, 170.9368, 65.33819, 4666.728, 12.05361, 12.82787, 4.371126, 6809.851, 1.095306, 19.34099, 23.68142, 1.797693e+308, 10.18837, 0.6958701, 0.07231308, 0.4472439, 7.797542, 0.09294825, 11.45741, 168.1952, 40.63592, 38.33106, 1069.339, 1.934681, 1.797693e+308, 40.67591, 21.15929, 8.311051, 1.533107, 3.669907, 9.529203, 1.797693e+308, 1284.477, 1.797693e+308, 2400.573, 11.12332, 12.45473, 0.07231308, 1.797693e+308, 4.371126, 1.797693e+308, 0.4472439, 1.797693e+308, 7.797542, 1.797693e+308, 1.797693e+308, 1.797693e+308, 0.09294825, 1.797693e+308, 1.797693e+308]\n"
     ]
    }
   ],
   "source": [
    "#call the file with python script\n",
    "%run /Users/zaraafrooz/Desktop/filament_work_zara/fil_module_draft_1.py"
   ]
  },
  {
   "cell_type": "code",
   "execution_count": 10,
   "metadata": {},
   "outputs": [
    {
     "name": "stdout",
     "output_type": "stream",
     "text": [
      "dict_keys(['ncrit', 'critical_points', 'nfils', 'filaments', 'nb_CP_fields', 'CP_fields', 'nb_fil_fields', 'fil_fields'])\n"
     ]
    }
   ],
   "source": [
    "#checking all the keys from that python file\n",
    "filkey('keys')"
   ]
  },
  {
   "cell_type": "code",
   "execution_count": 12,
   "metadata": {},
   "outputs": [
    {
     "name": "stdout",
     "output_type": "stream",
     "text": [
      "There are 142 items in this call\n"
     ]
    },
    {
     "data": {
      "text/plain": [
       "[649.3622,\n",
       " 2016.713,\n",
       " 6525.978,\n",
       " 2294.737,\n",
       " 2177.62,\n",
       " 2257.297,\n",
       " 958.9152,\n",
       " 18645.99,\n",
       " 10788.85,\n",
       " 925.4406,\n",
       " 1005.241,\n",
       " 758.7361,\n",
       " 6578.478,\n",
       " -1.0,\n",
       " 8479.646,\n",
       " 958.9152,\n",
       " 5.943952,\n",
       " -1.0,\n",
       " -1.0,\n",
       " 2257.297,\n",
       " -1.0,\n",
       " -1.0,\n",
       " -1.0,\n",
       " 2016.713,\n",
       " 6.288011,\n",
       " 2177.62,\n",
       " -1.0,\n",
       " -1.0,\n",
       " 8479.646,\n",
       " -1.0,\n",
       " -1.0,\n",
       " -1.0,\n",
       " -1.0,\n",
       " 758.7361,\n",
       " 1005.241,\n",
       " -1.0,\n",
       " 18645.99,\n",
       " -1.0,\n",
       " 2294.737,\n",
       " -1.0,\n",
       " 925.4406,\n",
       " -1.0,\n",
       " -1.0,\n",
       " 6578.478,\n",
       " -1.0,\n",
       " -1.0,\n",
       " -1.0,\n",
       " 10788.85,\n",
       " -1.0,\n",
       " 649.3622,\n",
       " 6525.978,\n",
       " -1.0,\n",
       " -1.0,\n",
       " 6.288011,\n",
       " 5.943952,\n",
       " 51.82872,\n",
       " 11.105,\n",
       " 79.68453,\n",
       " -1.0,\n",
       " 10.45113,\n",
       " 94.61291,\n",
       " -1.0,\n",
       " 44.45988,\n",
       " 6.930492,\n",
       " 208.5451,\n",
       " -1.0,\n",
       " -1.0,\n",
       " -1.0,\n",
       " 767.3597,\n",
       " 6.556738,\n",
       " 6.51004,\n",
       " 116.021,\n",
       " 6.540653,\n",
       " 10.62538,\n",
       " 10.77754,\n",
       " 9.974345,\n",
       " 72.92753,\n",
       " 44.37798,\n",
       " 10.40756,\n",
       " 24.70151,\n",
       " 14.66144,\n",
       " 17.23662,\n",
       " 8.134292,\n",
       " 6.814787,\n",
       " -1.0,\n",
       " 59.92594,\n",
       " 29834.77,\n",
       " 6.796138,\n",
       " 7.352916,\n",
       " 23.94284,\n",
       " 384.6221,\n",
       " 51.82872,\n",
       " 10.77754,\n",
       " 384.6221,\n",
       " 6.796138,\n",
       " 29834.77,\n",
       " 44.37798,\n",
       " 6.930492,\n",
       " 16.93891,\n",
       " 10.62538,\n",
       " 6.556738,\n",
       " 11.105,\n",
       " 72.92753,\n",
       " -1.0,\n",
       " 10.40756,\n",
       " 7.352916,\n",
       " 4.316477,\n",
       " 9.002942,\n",
       " 8.356925,\n",
       " 4.311531,\n",
       " 8.134292,\n",
       " 767.3597,\n",
       " 44.45988,\n",
       " 79.68453,\n",
       " 116.021,\n",
       " 6.51004,\n",
       " -1.0,\n",
       " 208.5451,\n",
       " 59.92594,\n",
       " 23.94284,\n",
       " 9.974345,\n",
       " 6.540653,\n",
       " 24.70151,\n",
       " -1.0,\n",
       " 6.814787,\n",
       " -1.0,\n",
       " 20692.28,\n",
       " 94.61291,\n",
       " 17.23662,\n",
       " 4.316477,\n",
       " -1.0,\n",
       " 16.93891,\n",
       " -1.0,\n",
       " 9.002942,\n",
       " -1.0,\n",
       " 8.356925,\n",
       " -1.0,\n",
       " -1.0,\n",
       " -1.0,\n",
       " 4.311531,\n",
       " -1.0,\n",
       " -1.0]"
      ]
     },
     "execution_count": 12,
     "metadata": {},
     "output_type": "execute_result"
    }
   ],
   "source": [
    "#checking whether the called functions are correct\n",
    "cvals(0,4,0)"
   ]
  },
  {
   "cell_type": "code",
   "execution_count": 39,
   "metadata": {},
   "outputs": [
    {
     "name": "stdout",
     "output_type": "stream",
     "text": [
      "There are 15 items in this call\n",
      "There are 15 items in this call\n"
     ]
    },
    {
     "data": {
      "text/plain": [
       "(5.0, 6.486225)"
      ]
     },
     "execution_count": 39,
     "metadata": {},
     "output_type": "execute_result"
    },
    {
     "data": {
      "image/png": "[encoded data removed]",
      "text/plain": [
       "<Figure size 640x480 with 1 Axes>"
      ]
     },
     "metadata": {},
     "output_type": "display_data"
    }
   ],
   "source": [
    "#analysis using the python script\n",
    "plt.hist(cvals(3,3,1), bins = 25, edgecolor= 'black')\n",
    "plt.xlim([5,max(cvals(3,3,1))])"
   ]
  },
  {
   "cell_type": "code",
   "execution_count": null,
   "metadata": {},
   "outputs": [],
   "source": []
  }
 ],
 "metadata": {
  "kernelspec": {
   "display_name": "base",
   "language": "python",
   "name": "python3"
  },
  "language_info": {
   "codemirror_mode": {
    "name": "ipython",
    "version": 3
   },
   "file_extension": ".py",
   "mimetype": "text/x-python",
   "name": "python",
   "nbconvert_exporter": "python",
   "pygments_lexer": "ipython3",
   "version": "3.10.9"
  },
  "orig_nbformat": 4
 },
 "nbformat": 4,
 "nbformat_minor": 2
}
