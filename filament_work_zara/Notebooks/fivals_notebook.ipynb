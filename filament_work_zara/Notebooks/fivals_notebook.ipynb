{
 "cells": [
  {
   "attachments": {},
   "cell_type": "markdown",
   "metadata": {},
   "source": [
    "#### Run the 'py' file that contains functions. Input file path for the desired GAMA data."
   ]
  },
  {
   "cell_type": "code",
   "execution_count": 18,
   "metadata": {},
   "outputs": [
    {
     "name": "stdout",
     "output_type": "stream",
     "text": [
      "header1, ANDSKEL\n",
      "\n",
      "ndims, 3\n",
      "\n",
      "Comments, #No comments (RB)\n",
      "\n",
      "Bounding box, BBOX [-9.46958,-11.2398,-10.2952] [19.1849,19.2268,23.9453]\n",
      "\n",
      "ncrit, 142\n",
      "nfils, 90\n",
      "Reading data fields:\n",
      "CP field: persistence_ratio\n",
      "\n",
      "CP field: persistence_nsigmas\n",
      "\n",
      "CP field: persistence\n",
      "\n",
      "CP field: persistence_pair\n",
      "\n",
      "CP field: parent_index\n",
      "\n",
      "CP field: parent_log_index\n",
      "\n",
      "CP field: log_field_value\n",
      "\n",
      "CP field: field_value\n",
      "\n",
      "CP field: cell\n",
      "\n",
      "Filament field: field_value\n",
      "\n",
      "Filament field: orientation\n",
      "\n",
      "Filament field: cell\n",
      "\n",
      "Filament field: log_field_value\n",
      "\n",
      "Filament field: type\n",
      "\n",
      "Reading filaments took 0.00 secs.\n",
      "header1, ANDSKEL\n",
      "\n",
      "ndims, 3\n",
      "\n",
      "Comments, #No comments (RB) (RB) (RB) (RB) (RB)\n",
      "\n",
      "Bounding box, BBOX [-1436.7,-987.426,-78.1993] [1440.62,2098.18,156.865]\n",
      "\n",
      "ncrit, 3588\n",
      "nfils, 3679\n",
      "Reading data fields:\n",
      "CP field: persistence_ratio\n",
      "\n",
      "CP field: persistence_nsigmas\n",
      "\n",
      "CP field: persistence\n",
      "\n",
      "CP field: robustness_ratio\n",
      "\n",
      "CP field: robustness\n",
      "\n",
      "CP field: persistence_pair\n",
      "\n",
      "CP field: parent_index\n",
      "\n",
      "CP field: parent_log_index\n",
      "\n",
      "CP field: log_field_value\n",
      "\n",
      "CP field: field_value\n",
      "\n",
      "CP field: cell\n",
      "\n",
      "Filament field: field_value\n",
      "\n",
      "Filament field: orientation\n",
      "\n",
      "Filament field: cell\n",
      "\n",
      "Filament field: log_field_value\n",
      "\n",
      "Filament field: type\n",
      "\n",
      "Filament field: robustness\n",
      "\n",
      "Filament field: robustness_ratio\n",
      "\n",
      "Reading filaments took 0.06 secs.\n"
     ]
    }
   ],
   "source": [
    "%run /Users/zaraafrooz/Desktop/Cosmic_Filaments_AstroCom/filament_work_zara/fivals.py"
   ]
  },
  {
   "attachments": {},
   "cell_type": "markdown",
   "metadata": {},
   "source": [
    "#### Checking the functionality of the functions based on the 'py' file and the called filepath."
   ]
  },
  {
   "cell_type": "code",
   "execution_count": 17,
   "metadata": {},
   "outputs": [
    {
     "name": "stdout",
     "output_type": "stream",
     "text": [
      "dict_keys(['ncrit', 'critical_points', 'nfils', 'filaments', 'nb_CP_fields', 'CP_fields', 'nb_fil_fields', 'fil_fields'])\n",
      "dict_keys(['ncrit', 'critical_points', 'nfils', 'filaments', 'nb_CP_fields', 'CP_fields', 'nb_fil_fields', 'fil_fields'])\n",
      "There are 28 items in this call\n",
      "There are 3588 items in this call\n",
      "dict_keys(['ncrit', 'critical_points', 'nfils', 'filaments', 'nb_CP_fields', 'CP_fields', 'nb_fil_fields', 'fil_fields'])\n",
      "these are the fil_fields in the Filament Dictionary\n",
      "['field_value\\n', 'orientation\\n', 'cell\\n', 'log_field_value\\n', 'type\\n', 'robustness\\n', 'robustness_ratio\\n']\n",
      "There are only 7 Field Val inputs\n",
      "There are only 5 Field Val inputs\n"
     ]
    }
   ],
   "source": [
    "filkey('keys')\n",
    "gamkey('keys')\n",
    "cval(4,4,0)\n",
    "gamc(0,4,0)\n",
    "gamkey('fil_fields')\n",
    "gamf(7)\n",
    "fval(90)"
   ]
  },
  {
   "cell_type": "code",
   "execution_count": 120,
   "metadata": {},
   "outputs": [
    {
     "name": "stdout",
     "output_type": "stream",
     "text": [
      "There are 142 items in this call\n"
     ]
    },
    {
     "data": {
      "image/png": "[encoded data removed]",
      "text/plain": [
       "<Figure size 640x480 with 1 Axes>"
      ]
     },
     "metadata": {},
     "output_type": "display_data"
    },
    {
     "name": "stdout",
     "output_type": "stream",
     "text": [
      "There are 3588 items in this call\n"
     ]
    },
    {
     "data": {
      "image/png": "[encoded data removed]",
      "text/plain": [
       "<Figure size 640x480 with 1 Axes>"
      ]
     },
     "metadata": {},
     "output_type": "display_data"
    }
   ],
   "source": [
    "import matplotlib.pyplot as plt\n",
    "plt.hist(cval(0,4,6))\n",
    "plt.show()\n",
    "plt.hist(gamc(0,4,5))\n",
    "plt.show()"
   ]
  },
  {
   "cell_type": "code",
   "execution_count": null,
   "metadata": {},
   "outputs": [],
   "source": []
  }
 ],
 "metadata": {
  "kernelspec": {
   "display_name": "Python 3",
   "language": "python",
   "name": "python3"
  },
  "language_info": {
   "codemirror_mode": {
    "name": "ipython",
    "version": 3
   },
   "file_extension": ".py",
   "mimetype": "text/x-python",
   "name": "python",
   "nbconvert_exporter": "python",
   "pygments_lexer": "ipython3",
   "version": "3.10.9"
  },
  "orig_nbformat": 4
 },
 "nbformat": 4,
 "nbformat_minor": 2
}
